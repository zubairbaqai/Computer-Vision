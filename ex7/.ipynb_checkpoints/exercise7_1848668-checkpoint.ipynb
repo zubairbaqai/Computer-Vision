{
 "cells": [
  {
   "cell_type": "markdown",
   "metadata": {},
   "source": [
    "### Blend 2 images using SKIMAGE.TRANSFORM: PYRAMID_EXPAND and PYRAMID_REDUCE"
   ]
  },
  {
   "cell_type": "code",
   "execution_count": 1,
   "metadata": {},
   "outputs": [],
   "source": [
    "import cv2 as cv\n",
    "import numpy as np\n",
    "from skimage.transform import pyramid_expand,pyramid_reduce\n",
    "from skimage.transform import resize"
   ]
  },
  {
   "cell_type": "code",
   "execution_count": 2,
   "metadata": {},
   "outputs": [],
   "source": [
    "baseball1 = cv.resize(cv.imread('images/baseball2.jpg'),(750,750))\n",
    "#cv.resize(cv.imread('images/baseball1.jpeg'),(750,750))\n",
    "baseball2 = cv.resize(cv.imread('images/baseball3.jpg'),(750,750))"
   ]
  },
  {
   "cell_type": "code",
   "execution_count": 3,
   "metadata": {},
   "outputs": [],
   "source": [
    "def display_image(title,image):\n",
    "    cv.imshow(title,image)\n",
    "    cv.waitKey(0)\n",
    "    cv.destroyAllWindows()"
   ]
  },
  {
   "cell_type": "code",
   "execution_count": 4,
   "metadata": {},
   "outputs": [],
   "source": [
    "display_image('baseball1',baseball1)\n",
    "display_image('baseball2',baseball2)"
   ]
  },
  {
   "cell_type": "markdown",
   "metadata": {},
   "source": [
    "### Creating gaussian Pyramids by reducing the size of image using pyrDown"
   ]
  },
  {
   "cell_type": "code",
   "execution_count": 5,
   "metadata": {},
   "outputs": [],
   "source": [
    "baseball1_layer = baseball1.copy()\n",
    "gaussian_pyd_baseball1 = [baseball1_layer/255]\n",
    "\n",
    "for i in range(6):\n",
    "    baseball1_layer = pyramid_reduce(baseball1_layer,downscale=2,multichannel=True)\n",
    "    gaussian_pyd_baseball1.append(baseball1_layer)\n",
    "    display_image(f'Layer {str(i)} for baseball1',gaussian_pyd_baseball1[i])"
   ]
  },
  {
   "cell_type": "code",
   "execution_count": 6,
   "metadata": {},
   "outputs": [],
   "source": [
    "baseball2_layer = baseball2.copy()\n",
    "gaussian_pyd_baseball2 = [baseball2_layer/255]\n",
    "\n",
    "for i in range(6):\n",
    "    baseball2_layer = pyramid_reduce(baseball2_layer,downscale=2,multichannel=True)\n",
    "    gaussian_pyd_baseball2.append(baseball2_layer)\n",
    "    display_image(f'Layer {str(i)} for baseball2',gaussian_pyd_baseball2[i])"
   ]
  },
  {
   "cell_type": "markdown",
   "metadata": {},
   "source": [
    "\n"
   ]
  },
  {
   "cell_type": "markdown",
   "metadata": {},
   "source": [
    "### Creating Laplacian Pyramid by expanding the image using pyrUp"
   ]
  },
  {
   "cell_type": "code",
   "execution_count": 7,
   "metadata": {},
   "outputs": [
    {
     "name": "stdout",
     "output_type": "stream",
     "text": [
      "5\n",
      "4\n",
      "3\n",
      "2\n",
      "1\n"
     ]
    }
   ],
   "source": [
    "display_image(f'Layer 6 for baseball1',gaussian_pyd_baseball1[5])\n",
    "lapl_pyramid_baseball1 = [gaussian_pyd_baseball1[5]]\n",
    "\n",
    "for i in range(5,0,-1):\n",
    "    \n",
    "    gaussian_ex = pyramid_expand(gaussian_pyd_baseball1[i],upscale=2,multichannel=True)\n",
    "    gaussian_ex = cv.resize(gaussian_ex,(gaussian_pyd_baseball1[i-1].shape[1],gaussian_pyd_baseball1[i-1].shape[0]))\n",
    "    \n",
    "    lap_baseball1 = cv.subtract(gaussian_pyd_baseball1[i-1],gaussian_ex)\n",
    "    lapl_pyramid_baseball1.append(lap_baseball1)\n",
    "    print(i)\n",
    "    display_image(f'Lap Layer {str(i)} for baseball1',lap_baseball1)"
   ]
  },
  {
   "cell_type": "code",
   "execution_count": 8,
   "metadata": {},
   "outputs": [
    {
     "name": "stdout",
     "output_type": "stream",
     "text": [
      "5\n",
      "4\n",
      "3\n",
      "2\n",
      "1\n"
     ]
    }
   ],
   "source": [
    "display_image(f'Layer 6 for baseball2',gaussian_pyd_baseball2[5])\n",
    "lapl_pyramid_baseball2 = [gaussian_pyd_baseball2[5]]\n",
    "\n",
    "for i in range(5,0,-1):\n",
    "    gaussian_ex = pyramid_expand(gaussian_pyd_baseball2[i],upscale=2,multichannel=True)\n",
    "    gaussian_ex = cv.resize(gaussian_ex,(gaussian_pyd_baseball2[i-1].shape[1],gaussian_pyd_baseball2[i-1].shape[0]))\n",
    "    \n",
    "    lap_baseball2 = cv.subtract(gaussian_pyd_baseball2[i-1],gaussian_ex)\n",
    "    lapl_pyramid_baseball2.append(lap_baseball2)\n",
    "    print(i)\n",
    "    display_image(f'Lap Layer {str(i)} for baseball2',lap_baseball2)"
   ]
  },
  {
   "cell_type": "markdown",
   "metadata": {},
   "source": [
    " "
   ]
  },
  {
   "cell_type": "markdown",
   "metadata": {},
   "source": [
    " "
   ]
  },
  {
   "cell_type": "markdown",
   "metadata": {},
   "source": [
    "### Add the expanded smallest laplacian to the previous layer until original size is attained and can be used for blending"
   ]
  },
  {
   "cell_type": "code",
   "execution_count": 9,
   "metadata": {},
   "outputs": [],
   "source": [
    "reconstructed_baseball1=lapl_pyramid_baseball1[0]\n",
    "for i in range(1,6):\n",
    "    size_image=(lapl_pyramid_baseball1[i].shape[1],lapl_pyramid_baseball1[i].shape[0])\n",
    "    reconstructed_baseball1=cv.pyrUp(reconstructed_baseball1,dstsize=size_image)\n",
    "    reconstructed_baseball1=cv.add(reconstructed_baseball1,lapl_pyramid_baseball1[i])\n",
    "    display_image(f'Reconstructed Layer {str(i)} for baseball1',reconstructed_baseball1)\n",
    "    "
   ]
  },
  {
   "cell_type": "code",
   "execution_count": 10,
   "metadata": {},
   "outputs": [],
   "source": [
    "reconstructed_baseball2=lapl_pyramid_baseball2[0]\n",
    "for i in range(1,6):\n",
    "    size_image=(lapl_pyramid_baseball2[i].shape[1],lapl_pyramid_baseball2[i].shape[0])\n",
    "    reconstructed_baseball2=cv.pyrUp(reconstructed_baseball2,dstsize=size_image)\n",
    "    reconstructed_baseball2=cv.add(reconstructed_baseball2,lapl_pyramid_baseball2[i])\n",
    "    display_image(f'Reconstructed Layer {str(i)} for baseball2',reconstructed_baseball2)\n",
    "    "
   ]
  },
  {
   "cell_type": "markdown",
   "metadata": {},
   "source": [
    " "
   ]
  },
  {
   "cell_type": "markdown",
   "metadata": {},
   "source": [
    " "
   ]
  },
  {
   "cell_type": "markdown",
   "metadata": {},
   "source": [
    "### Blending both the images."
   ]
  },
  {
   "cell_type": "code",
   "execution_count": 11,
   "metadata": {},
   "outputs": [],
   "source": [
    "baseball1_baseball2 = np.hstack((baseball1[:,:375],baseball2[:,375:]))\n",
    "display_image('Combined Image of baseball1 and baseball2',baseball1_baseball2)"
   ]
  },
  {
   "cell_type": "markdown",
   "metadata": {},
   "source": [
    "### Combining both the images "
   ]
  },
  {
   "cell_type": "code",
   "execution_count": 12,
   "metadata": {},
   "outputs": [],
   "source": [
    "baseball1_baseball2_pyramid = []\n",
    "n=0\n",
    "for lap_baseball1,lap_baseball2 in zip(lapl_pyramid_baseball1,lapl_pyramid_baseball2):\n",
    "    n+=1\n",
    "    col,row,channel = lap_baseball1.shape\n",
    "    lap = np.hstack((lap_baseball1[:,:int(col/2)],lap_baseball2[:,int(col/2):]))\n",
    "    display_image(f'Reconstructed Layer {str(n)} for baseball1 / baseball2',lap)\n",
    "    baseball1_baseball2_pyramid.append(lap)"
   ]
  },
  {
   "cell_type": "markdown",
   "metadata": {},
   "source": [
    "### Reconstructing the combined images again"
   ]
  },
  {
   "cell_type": "code",
   "execution_count": 13,
   "metadata": {},
   "outputs": [],
   "source": [
    "baseball1_baseball2_reconstruct = baseball1_baseball2_pyramid[0]\n",
    "for i in range(1,6):\n",
    "    size_image=(baseball1_baseball2_pyramid[i].shape[1],baseball1_baseball2_pyramid[i].shape[0])\n",
    "    baseball1_baseball2_reconstruct=cv.pyrUp(baseball1_baseball2_reconstruct,dstsize=size_image)\n",
    "    baseball1_baseball2_reconstruct=cv.add(baseball1_baseball2_pyramid[i],baseball1_baseball2_reconstruct)\n",
    "    display_image(\"Combined Image of baseball1 and baseball2 Reconstructed\",baseball1_baseball2_reconstruct)"
   ]
  },
  {
   "cell_type": "code",
   "execution_count": 14,
   "metadata": {},
   "outputs": [],
   "source": [
    "B=baseball2\n",
    "A = baseball1\n",
    "B= cv.resize(B, A.shape[-2::-1])\n",
    "real = np.hstack((A[:,:col//2],B[:,col//2:]))"
   ]
  },
  {
   "cell_type": "code",
   "execution_count": 15,
   "metadata": {},
   "outputs": [
    {
     "data": {
      "text/plain": [
       "True"
      ]
     },
     "execution_count": 15,
     "metadata": {},
     "output_type": "execute_result"
    }
   ],
   "source": [
    "cv.imwrite('Pyramid_blending.jpg',baseball1_baseball2_reconstruct*255)\n",
    "cv.imwrite('Direct_blending.jpg',real)"
   ]
  },
  {
   "cell_type": "code",
   "execution_count": null,
   "metadata": {},
   "outputs": [],
   "source": []
  }
 ],
 "metadata": {
  "kernelspec": {
   "display_name": "Python 3",
   "language": "python",
   "name": "python3"
  },
  "language_info": {
   "codemirror_mode": {
    "name": "ipython",
    "version": 3
   },
   "file_extension": ".py",
   "mimetype": "text/x-python",
   "name": "python",
   "nbconvert_exporter": "python",
   "pygments_lexer": "ipython3",
   "version": "3.6.9"
  }
 },
 "nbformat": 4,
 "nbformat_minor": 2
}
